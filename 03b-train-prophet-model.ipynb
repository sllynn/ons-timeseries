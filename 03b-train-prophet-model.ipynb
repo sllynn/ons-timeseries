{
 "cells": [
  {
   "cell_type": "markdown",
   "metadata": {
    "application/vnd.databricks.v1+cell": {
     "cellMetadata": {
      "byteLimit": 2048000,
      "rowLimit": 10000
     },
     "inputWidgets": {},
     "nuid": "dbced350-cfb1-468b-871c-342f109b77e3",
     "showTitle": false,
     "title": ""
    }
   },
   "source": [
    "# Prophet training\n",
    "- This is an auto-generated notebook.\n",
    "- To reproduce these results, attach this notebook to a cluster with runtime version **15.4.x-cpu-ml-scala2.12**, and rerun it.\n",
    "- Compare trials in the [MLflow experiment](#mlflow/experiments/2548317818372766).\n",
    "- Clone this notebook into your project folder by selecting **File > Clone** in the notebook toolbar."
   ]
  },
  {
   "cell_type": "code",
   "execution_count": 0,
   "metadata": {
    "application/vnd.databricks.v1+cell": {
     "cellMetadata": {
      "byteLimit": 2048000,
      "rowLimit": 10000
     },
     "inputWidgets": {},
     "nuid": "85a3a09d-f066-40f2-be04-72a1a4066ea0",
     "showTitle": false,
     "title": ""
    }
   },
   "outputs": [],
   "source": [
    "dbutils.widgets.text(\"catalog\", \"stuart\", \"Default UC catalog\")\n",
    "dbutils.widgets.text(\"schema\", \"ts\", \"Default UC schema\")\n",
    "dbutils.widgets.text(\"ts_freq\", \"months\", \"Data frequency to use for forecast\")"
   ]
  },
  {
   "cell_type": "code",
   "execution_count": 0,
   "metadata": {
    "application/vnd.databricks.v1+cell": {
     "cellMetadata": {
      "byteLimit": 2048000,
      "rowLimit": 10000
     },
     "inputWidgets": {},
     "nuid": "7dd4e218-af8f-435e-8710-76c9b48aad57",
     "showTitle": false,
     "title": ""
    }
   },
   "outputs": [],
   "source": [
    "CATALOG = dbutils.widgets.get(\"catalog\")\n",
    "SCHEMA = dbutils.widgets.get(\"schema\")"
   ]
  },
  {
   "cell_type": "code",
   "execution_count": 0,
   "metadata": {
    "application/vnd.databricks.v1+cell": {
     "cellMetadata": {
      "byteLimit": 2048000,
      "rowLimit": 10000
     },
     "inputWidgets": {},
     "nuid": "082850c5-72bc-4fe6-874c-efdfbf9ffe80",
     "showTitle": false,
     "title": ""
    }
   },
   "outputs": [],
   "source": [
    "import mlflow\n",
    "import databricks.automl_runtime\n",
    "\n",
    "target_col = \"value\"\n",
    "time_col = \"ts\"\n",
    "unit = dbutils.widgets.get(\"ts_freq\")\n",
    "\n",
    "id_cols = [\"cdid\"]\n",
    "\n",
    "horizon = 12"
   ]
  },
  {
   "cell_type": "markdown",
   "metadata": {
    "application/vnd.databricks.v1+cell": {
     "cellMetadata": {
      "byteLimit": 2048000,
      "rowLimit": 10000
     },
     "inputWidgets": {},
     "nuid": "ea7aef4d-f098-46d0-b7ce-2bedd86e9791",
     "showTitle": false,
     "title": ""
    }
   },
   "source": [
    "## Load Data"
   ]
  },
  {
   "cell_type": "code",
   "execution_count": 0,
   "metadata": {
    "application/vnd.databricks.v1+cell": {
     "cellMetadata": {
      "byteLimit": 2048000,
      "rowLimit": 10000
     },
     "inputWidgets": {},
     "nuid": "63371b3d-9985-4e5f-81b6-325196a2911a",
     "showTitle": false,
     "title": ""
    }
   },
   "outputs": [
    {
     "output_type": "stream",
     "name": "stderr",
     "output_type": "stream",
     "text": [
      "/databricks/spark/python/pyspark/sql/dataframe.py:6934: FutureWarning: DataFrame.to_pandas_on_spark is deprecated. Use DataFrame.pandas_api instead.\n  warnings.warn(\n"
     ]
    },
    {
     "output_type": "display_data",
     "data": {
      "text/html": [
       "<style scoped>\n",
       "  .table-result-container {\n",
       "    max-height: 300px;\n",
       "    overflow: auto;\n",
       "  }\n",
       "  table, th, td {\n",
       "    border: 1px solid black;\n",
       "    border-collapse: collapse;\n",
       "  }\n",
       "  th, td {\n",
       "    padding: 5px;\n",
       "  }\n",
       "  th {\n",
       "    text-align: left;\n",
       "  }\n",
       "</style><div class='table-result-container'><table class='table-result'><thead style='background-color: white'><tr><th>cdid</th><th>publishedPeriod</th><th>releaseDate</th><th>label</th><th>month</th><th>quarter</th><th>sourceDataset</th><th>updateDate</th><th>value</th><th>year</th><th>ts</th></tr></thead><tbody><tr><td>D7BT</td><td>2024 JUN</td><td>2024-07-16T23:00:00.000Z</td><td>1988 JAN</td><td>January</td><td></td><td>MM23</td><td>2016-01-19T09:30:00Z</td><td>48.4</td><td>1988</td><td>1988-01-01T00:00:00Z</td></tr><tr><td>D7BT</td><td>2024 JUN</td><td>2024-07-16T23:00:00.000Z</td><td>1988 FEB</td><td>February</td><td></td><td>MM23</td><td>2018-12-19T00:00:00Z</td><td>48.6</td><td>1988</td><td>1988-02-01T00:00:00Z</td></tr><tr><td>D7BT</td><td>2024 JUN</td><td>2024-07-16T23:00:00.000Z</td><td>1988 MAR</td><td>March</td><td></td><td>MM23</td><td>2016-01-19T09:30:00Z</td><td>48.7</td><td>1988</td><td>1988-03-01T00:00:00Z</td></tr><tr><td>D7BT</td><td>2024 JUN</td><td>2024-07-16T23:00:00.000Z</td><td>1988 APR</td><td>April</td><td></td><td>MM23</td><td>2016-01-19T09:30:00Z</td><td>49.3</td><td>1988</td><td>1988-04-01T00:00:00Z</td></tr><tr><td>D7BT</td><td>2024 JUN</td><td>2024-07-16T23:00:00.000Z</td><td>1988 MAY</td><td>May</td><td></td><td>MM23</td><td>2016-01-19T09:30:00Z</td><td>49.5</td><td>1988</td><td>1988-05-01T00:00:00Z</td></tr></tbody></table></div>"
      ]
     },
     "metadata": {
      "application/vnd.databricks.v1+output": {
       "addedWidgets": {},
       "aggData": [],
       "aggError": "",
       "aggOverflow": false,
       "aggSchema": [],
       "aggSeriesLimitReached": false,
       "aggType": "",
       "arguments": {},
       "columnCustomDisplayInfos": {},
       "data": [
        [
         "D7BT",
         "2024 JUN",
         "2024-07-16T23:00:00.000Z",
         "1988 JAN",
         "January",
         "",
         "MM23",
         "2016-01-19T09:30:00Z",
         48.4,
         1988,
         "1988-01-01T00:00:00Z"
        ],
        [
         "D7BT",
         "2024 JUN",
         "2024-07-16T23:00:00.000Z",
         "1988 FEB",
         "February",
         "",
         "MM23",
         "2018-12-19T00:00:00Z",
         48.6,
         1988,
         "1988-02-01T00:00:00Z"
        ],
        [
         "D7BT",
         "2024 JUN",
         "2024-07-16T23:00:00.000Z",
         "1988 MAR",
         "March",
         "",
         "MM23",
         "2016-01-19T09:30:00Z",
         48.7,
         1988,
         "1988-03-01T00:00:00Z"
        ],
        [
         "D7BT",
         "2024 JUN",
         "2024-07-16T23:00:00.000Z",
         "1988 APR",
         "April",
         "",
         "MM23",
         "2016-01-19T09:30:00Z",
         49.3,
         1988,
         "1988-04-01T00:00:00Z"
        ],
        [
         "D7BT",
         "2024 JUN",
         "2024-07-16T23:00:00.000Z",
         "1988 MAY",
         "May",
         "",
         "MM23",
         "2016-01-19T09:30:00Z",
         49.5,
         1988,
         "1988-05-01T00:00:00Z"
        ]
       ],
       "datasetInfos": [],
       "dbfsResultPath": null,
       "isJsonSchema": true,
       "metadata": {},
       "overflow": false,
       "plotOptions": {
        "customPlotOptions": {},
        "displayType": "table",
        "pivotAggregation": null,
        "pivotColumns": null,
        "xColumns": null,
        "yColumns": null
       },
       "removedWidgets": [],
       "schema": [
        {
         "metadata": "{}",
         "name": "cdid",
         "type": "\"string\""
        },
        {
         "metadata": "{}",
         "name": "publishedPeriod",
         "type": "\"string\""
        },
        {
         "metadata": "{}",
         "name": "releaseDate",
         "type": "\"string\""
        },
        {
         "metadata": "{}",
         "name": "label",
         "type": "\"string\""
        },
        {
         "metadata": "{}",
         "name": "month",
         "type": "\"string\""
        },
        {
         "metadata": "{}",
         "name": "quarter",
         "type": "\"string\""
        },
        {
         "metadata": "{}",
         "name": "sourceDataset",
         "type": "\"string\""
        },
        {
         "metadata": "{}",
         "name": "updateDate",
         "type": "\"timestamp\""
        },
        {
         "metadata": "{}",
         "name": "value",
         "type": "\"double\""
        },
        {
         "metadata": "{}",
         "name": "year",
         "type": "\"integer\""
        },
        {
         "metadata": "{}",
         "name": "ts",
         "type": "\"timestamp\""
        }
       ],
       "type": "table"
      }
     },
     "output_type": "display_data"
    }
   ],
   "source": [
    "import mlflow\n",
    "import os\n",
    "import uuid\n",
    "import shutil\n",
    "import pandas as pd\n",
    "import pyspark.pandas as ps\n",
    "\n",
    "# Create temp directory to download input data from MLflow\n",
    "# input_temp_dir = os.path.join(os.environ[\"SPARK_LOCAL_DIRS\"], \"tmp\", str(uuid.uuid4())[:8])\n",
    "# os.makedirs(input_temp_dir)\n",
    "\n",
    "# Download the artifact and read it into a pandas DataFrame\n",
    "# input_data_path = mlflow.artifacts.download_artifacts(run_id=\"8ea83719a4a14a1fa7b8ff3804276760\", artifact_path=\"data\", dst_path=input_temp_dir)\n",
    "\n",
    "# input_file_path = os.path.join(input_data_path, \"training_data\")\n",
    "# input_file_path = \"file://\" + input_file_path\n",
    "# df_loaded = ps.from_pandas(pd.read_parquet(input_file_path))\n",
    "\n",
    "df_loaded = spark.table(f\"{CATALOG}.{SCHEMA}.gold_{unit}\").to_pandas_on_spark()\n",
    "\n",
    "# Preview data\n",
    "display(df_loaded.head(5))"
   ]
  },
  {
   "cell_type": "markdown",
   "metadata": {
    "application/vnd.databricks.v1+cell": {
     "cellMetadata": {
      "byteLimit": 2048000,
      "rowLimit": 10000
     },
     "inputWidgets": {},
     "nuid": "1d46eaff-e4e1-4d7f-a746-95241b46c83b",
     "showTitle": false,
     "title": ""
    }
   },
   "source": [
    "## Aggregate data by `id_col` and `time_col`\n",
    "Group the data by `id_col` and `time_col`, and take average if there are multiple `target_col` values in the same group."
   ]
  },
  {
   "cell_type": "code",
   "execution_count": 0,
   "metadata": {
    "application/vnd.databricks.v1+cell": {
     "cellMetadata": {
      "byteLimit": 2048000,
      "rowLimit": 10000
     },
     "inputWidgets": {},
     "nuid": "eebb9e23-e434-48f4-995c-ec6e4a9e3f31",
     "showTitle": false,
     "title": ""
    }
   },
   "outputs": [
    {
     "output_type": "display_data",
     "data": {
      "text/html": [
       "<style scoped>\n",
       "  .table-result-container {\n",
       "    max-height: 300px;\n",
       "    overflow: auto;\n",
       "  }\n",
       "  table, th, td {\n",
       "    border: 1px solid black;\n",
       "    border-collapse: collapse;\n",
       "  }\n",
       "  th, td {\n",
       "    padding: 5px;\n",
       "  }\n",
       "  th {\n",
       "    text-align: left;\n",
       "  }\n",
       "</style><div class='table-result-container'><table class='table-result'><thead style='background-color: white'><tr><th>ts</th><th>cdid</th><th>y</th><th>ts_id</th></tr></thead><tbody><tr><td>2004-02-01T00:00:00Z</td><td>DK9J</td><td>103.3</td><td>DK9J</td></tr><tr><td>1995-01-01T00:00:00Z</td><td>D7BU</td><td>62.4</td><td>D7BU</td></tr><tr><td>2009-03-01T00:00:00Z</td><td>D7F5</td><td>81.7</td><td>D7F5</td></tr><tr><td>2010-07-01T00:00:00Z</td><td>D7F5</td><td>86.1</td><td>D7F5</td></tr><tr><td>2018-11-01T00:00:00Z</td><td>D7F5</td><td>108.5</td><td>D7F5</td></tr></tbody></table></div>"
      ]
     },
     "metadata": {
      "application/vnd.databricks.v1+output": {
       "addedWidgets": {},
       "aggData": [],
       "aggError": "",
       "aggOverflow": false,
       "aggSchema": [],
       "aggSeriesLimitReached": false,
       "aggType": "",
       "arguments": {},
       "columnCustomDisplayInfos": {},
       "data": [
        [
         "2004-02-01T00:00:00Z",
         "DK9J",
         103.3,
         "DK9J"
        ],
        [
         "1995-01-01T00:00:00Z",
         "D7BU",
         62.4,
         "D7BU"
        ],
        [
         "2009-03-01T00:00:00Z",
         "D7F5",
         81.7,
         "D7F5"
        ],
        [
         "2010-07-01T00:00:00Z",
         "D7F5",
         86.1,
         "D7F5"
        ],
        [
         "2018-11-01T00:00:00Z",
         "D7F5",
         108.5,
         "D7F5"
        ]
       ],
       "datasetInfos": [],
       "dbfsResultPath": null,
       "isJsonSchema": true,
       "metadata": {},
       "overflow": false,
       "plotOptions": {
        "customPlotOptions": {},
        "displayType": "table",
        "pivotAggregation": null,
        "pivotColumns": null,
        "xColumns": null,
        "yColumns": null
       },
       "removedWidgets": [],
       "schema": [
        {
         "metadata": "{}",
         "name": "ts",
         "type": "\"timestamp\""
        },
        {
         "metadata": "{}",
         "name": "cdid",
         "type": "\"string\""
        },
        {
         "metadata": "{}",
         "name": "y",
         "type": "\"double\""
        },
        {
         "metadata": "{}",
         "name": "ts_id",
         "type": "\"string\""
        }
       ],
       "type": "table"
      }
     },
     "output_type": "display_data"
    }
   ],
   "source": [
    "group_cols = [time_col] + id_cols\n",
    "\n",
    "df_aggregated = df_loaded \\\n",
    "  .groupby(group_cols) \\\n",
    "  .agg(y=(target_col, \"avg\")) \\\n",
    "  .reset_index()\n",
    "\n",
    "df_aggregated = df_aggregated.assign(ts_id=lambda x:x[\"cdid\"].astype(str))\n",
    "\n",
    "\n",
    "display(df_aggregated.head(5))"
   ]
  },
  {
   "cell_type": "markdown",
   "metadata": {
    "application/vnd.databricks.v1+cell": {
     "cellMetadata": {
      "byteLimit": 2048000,
      "rowLimit": 10000
     },
     "inputWidgets": {},
     "nuid": "ce10dbc1-d923-48fe-830a-3048246c0d1a",
     "showTitle": false,
     "title": ""
    }
   },
   "source": [
    "## Train Prophet model\n",
    "- Log relevant metrics to MLflow to track runs\n",
    "- All the runs are logged under [this MLflow experiment](#mlflow/experiments/2548317818372766)\n",
    "- Change the model parameters and re-run the training cell to log a different trial to the MLflow experiment"
   ]
  },
  {
   "cell_type": "code",
   "execution_count": 0,
   "metadata": {
    "application/vnd.databricks.v1+cell": {
     "cellMetadata": {
      "byteLimit": 2048000,
      "rowLimit": 10000
     },
     "inputWidgets": {},
     "nuid": "d7f0bb8e-eb5b-4258-80ed-36d7d5f06a37",
     "showTitle": false,
     "title": ""
    }
   },
   "outputs": [],
   "source": [
    "import logging\n",
    "\n",
    "# disable informational messages from prophet\n",
    "logging.getLogger(\"py4j\").setLevel(logging.WARNING)"
   ]
  },
  {
   "cell_type": "code",
   "execution_count": 0,
   "metadata": {
    "application/vnd.databricks.v1+cell": {
     "cellMetadata": {
      "byteLimit": 2048000,
      "rowLimit": 10000
     },
     "inputWidgets": {},
     "nuid": "af3ee0cc-dc21-49a8-b85c-02341787ec00",
     "showTitle": false,
     "title": ""
    }
   },
   "outputs": [],
   "source": [
    "from pyspark.sql.types import *\n",
    "\n",
    "df_schema = df_aggregated.to_spark().schema\n",
    "result_columns = id_cols + [\"model_json\", \"prophet_params\", \"start_time\", \"end_time\", \"mse\",\n",
    "                  \"rmse\", \"mae\", \"mape\", \"mdape\", \"smape\", \"coverage\"]\n",
    "result_schema = StructType(\n",
    "  [StructField(id_col, df_schema[id_col].dataType) for id_col in id_cols] + [\n",
    "  StructField(\"model_json\", StringType()),\n",
    "  StructField(\"prophet_params\", StringType()),\n",
    "  StructField(\"start_time\", TimestampType()),\n",
    "  StructField(\"end_time\", TimestampType()),\n",
    "  StructField(\"mse\", FloatType()),\n",
    "  StructField(\"rmse\", FloatType()),\n",
    "  StructField(\"mae\", FloatType()),\n",
    "  StructField(\"mape\", FloatType()),\n",
    "  StructField(\"mdape\", FloatType()),\n",
    "  StructField(\"smape\", FloatType()),\n",
    "  StructField(\"coverage\", FloatType())\n",
    "  ])\n",
    "\n",
    "def prophet_training(history_pd):\n",
    "  from hyperopt import hp\n",
    "  from databricks.automl_runtime.forecast.prophet.forecast import ProphetHyperoptEstimator\n",
    "\n",
    "  seasonality_mode = [\"additive\", \"multiplicative\"]\n",
    "  search_space =  {\n",
    "    \"changepoint_prior_scale\": hp.loguniform(\"changepoint_prior_scale\", -6.9, 3.0),\n",
    "    \"seasonality_prior_scale\": hp.loguniform(\"seasonality_prior_scale\", -6.9, 2.3),\n",
    "    \"holidays_prior_scale\": hp.loguniform(\"holidays_prior_scale\", -6.9, 2.3),\n",
    "    \"seasonality_mode\": hp.choice(\"seasonality_mode\", seasonality_mode)\n",
    "  }\n",
    "  country_holidays = None\n",
    "  run_parallel = False\n",
    " \n",
    "  hyperopt_estim = ProphetHyperoptEstimator(horizon=horizon, frequency_unit=unit, metric=\"smape\",interval_width=0.95,\n",
    "                   country_holidays=country_holidays, search_space=search_space, num_folds=5, max_eval=10, trial_timeout=7092,\n",
    "                   random_state=310277476, is_parallel=run_parallel)\n",
    "\n",
    "  results_pd = hyperopt_estim.fit(history_pd)\n",
    "  results_pd[id_cols] = history_pd[id_cols]\n",
    "  results_pd[\"start_time\"] = pd.Timestamp(history_pd[\"ds\"].min())\n",
    "  results_pd[\"end_time\"] = pd.Timestamp(history_pd[\"ds\"].max())\n",
    " \n",
    "  return results_pd[result_columns]\n",
    "\n",
    "def train_with_fail_safe(df):\n",
    "  try:\n",
    "    return prophet_training(df)\n",
    "  except Exception as e:\n",
    "    print(f\"Encountered an exception while training timeseries: {repr(e)}\")\n",
    "    return pd.DataFrame(columns=result_columns)"
   ]
  },
  {
   "cell_type": "code",
   "execution_count": 0,
   "metadata": {
    "application/vnd.databricks.v1+cell": {
     "cellMetadata": {
      "byteLimit": 2048000,
      "rowLimit": 10000
     },
     "inputWidgets": {},
     "nuid": "7bd3583f-1f11-4b8f-9dca-59c8d59b74ce",
     "showTitle": false,
     "title": ""
    }
   },
   "outputs": [
    {
     "output_type": "stream",
     "name": "stderr",
     "output_type": "stream",
     "text": [
      "/databricks/python/lib/python3.11/site-packages/prophet/serialize.py:172: FutureWarning: The behavior of Timestamp.utcfromtimestamp is deprecated, in a future version will return a timezone-aware Timestamp with UTC timezone. To keep the old behavior, use Timestamp.utcfromtimestamp(ts).tz_localize(None). To get the future behavior, use Timestamp.fromtimestamp(ts, 'UTC')\n  setattr(model, attribute, pd.Timestamp.utcfromtimestamp(model_dict[attribute]).tz_localize(None))\n/databricks/python/lib/python3.11/site-packages/databricks/automl_runtime/forecast/prophet/model.py:301: FutureWarning: Not prepending group keys to the result index of transform-like apply. In the future, the group keys will be included in the index, regardless of whether the applied function returns a like-indexed object.\nTo preserve the previous behavior, use\n\n\t>>> .groupby(..., group_keys=False)\n\nTo adopt the future behavior and silence this warning, use \n\n\t>>> .groupby(..., group_keys=True)\n  predict_df = test_df.groupby(self._id_cols).apply(model_prediction).reset_index(drop=True)\n/databricks/python/lib/python3.11/site-packages/mlflow/types/utils.py:394: UserWarning: Hint: Inferred schema contains integer column(s). Integer columns in Python cannot represent missing values. If your input data contains missing values at inference time, it will be encoded as floats and will cause a schema enforcement error. The best way to avoid this problem is to infer the model schema based on a realistic data sample (training dataset) that includes missing values. Alternatively, you can declare integer columns as doubles (float64) whenever these columns may have missing values. See `Handling Integers With Missing Values <https://www.mlflow.org/docs/latest/models.html#handling-integers-with-missing-values>`_ for more details.\n  warnings.warn(\n"
     ]
    },
    {
     "output_type": "display_data",
     "data": {
      "application/vnd.jupyter.widget-view+json": {
       "model_id": "b06488a71cd746b5836ecdcacc3d95d3",
       "version_major": 2,
       "version_minor": 0
      },
      "text/plain": [
       "Uploading artifacts:   0%|          | 0/9 [00:00<?, ?it/s]"
      ]
     },
     "metadata": {},
     "output_type": "display_data"
    }
   ],
   "source": [
    "import mlflow\n",
    "from databricks.automl_runtime.forecast.prophet.model import mlflow_prophet_log_model, MultiSeriesProphetModel\n",
    "\n",
    "with mlflow.start_run() as mlflow_run:\n",
    "  mlflow.set_tag(\"estimator_name\", \"Prophet\")\n",
    "  mlflow.log_param(\"interval_width\", 0.95)\n",
    "  df_aggregated = df_aggregated.rename(columns={time_col: \"ds\"})\n",
    "\n",
    "  forecast_results = (df_aggregated.to_spark().repartition(sc.defaultParallelism, \"ts_id\") \\\n",
    "    .groupby(\"ts_id\").applyInPandas(train_with_fail_safe, result_schema)).cache().pandas_api()\n",
    "  results_pdf = forecast_results[id_cols + [\"model_json\", \"start_time\", \"end_time\"]].to_pandas()\n",
    "  results_pdf[\"ts_id\"] = results_pdf[id_cols].astype(str).agg('-'.join, axis=1)\n",
    "  results_pdf[\"ts_id_tuple\"] = results_pdf[id_cols].apply(tuple, axis=1)\n",
    "   \n",
    "  # Check whether every time series's model is trained\n",
    "  ts_models_trained = set(results_pdf[\"ts_id\"].unique().tolist())\n",
    "  ts_ids = set(df_aggregated[\"ts_id\"].unique().tolist())\n",
    "\n",
    "  if len(ts_models_trained) == 0:\n",
    "    raise Exception(\"Trial unable to train models for any identities. Please check the training cell for error details\")\n",
    "\n",
    "  if ts_ids != ts_models_trained:\n",
    "    mlflow.log_param(\"partial_model\", True)\n",
    "    print(f\"WARNING: Models not trained for the following identities: {ts_ids.difference(ts_models_trained)}\")\n",
    " \n",
    "  # Log the metrics to mlflow\n",
    "  metric_name_map = {\"mse\": \"mean_squared_error\", \"rmse\": \"root_mean_squared_error\", \"mae\": \"mean_absolute_error\",\n",
    "                     \"mape\": \"mean_absolute_percentage_error\", \"mdape\": \"mdape\", \"smape\": \"smape\", \"coverage\": \"coverage\"}\n",
    "  avg_metrics = forecast_results[metric_name_map.keys()].rename(columns=metric_name_map).mean().to_frame(name=\"mean_metrics\").reset_index()\n",
    "  avg_metrics[\"index\"] = \"val_\" + avg_metrics[\"index\"].astype(str)\n",
    "  avg_metrics.set_index(\"index\", inplace=True)\n",
    "  mlflow.log_metrics(avg_metrics.to_dict()[\"mean_metrics\"])\n",
    "\n",
    "  # Create mlflow prophet model\n",
    "  results_pdf = results_pdf.set_index(\"ts_id_tuple\")\n",
    "  model_json = results_pdf[\"model_json\"].to_dict()\n",
    "  start_time = results_pdf[\"start_time\"].to_dict()\n",
    "  end_time = results_pdf[\"end_time\"].to_dict()\n",
    "  end_history_time = max(end_time.values())\n",
    "  prophet_model = MultiSeriesProphetModel(model_json, start_time, end_history_time, horizon, unit, time_col, id_cols)\n",
    "\n",
    "  # Generate sample input dataframe\n",
    "  sample_input = df_loaded.head(1).to_pandas()\n",
    "  sample_input[time_col] = pd.to_datetime(sample_input[time_col])\n",
    "  sample_input.drop(columns=[target_col], inplace=True)\n",
    "\n",
    "  mlflow_prophet_log_model(prophet_model, sample_input=sample_input)"
   ]
  },
  {
   "cell_type": "code",
   "execution_count": 0,
   "metadata": {
    "application/vnd.databricks.v1+cell": {
     "cellMetadata": {
      "byteLimit": 2048000,
      "rowLimit": 10000
     },
     "inputWidgets": {},
     "nuid": "837c1d9a-cd2d-4b50-b940-52fdca0e0f49",
     "showTitle": false,
     "title": ""
    }
   },
   "outputs": [
    {
     "output_type": "execute_result",
     "data": {
      "text/html": [
       "<div>\n",
       "<style scoped>\n",
       "    .dataframe tbody tr th:only-of-type {\n",
       "        vertical-align: middle;\n",
       "    }\n",
       "\n",
       "    .dataframe tbody tr th {\n",
       "        vertical-align: top;\n",
       "    }\n",
       "\n",
       "    .dataframe thead th {\n",
       "        text-align: right;\n",
       "    }\n",
       "</style>\n",
       "<table border=\"1\" class=\"dataframe\">\n",
       "  <thead>\n",
       "    <tr style=\"text-align: right;\">\n",
       "      <th></th>\n",
       "      <th>start_time</th>\n",
       "      <th>end_time</th>\n",
       "      <th>mse</th>\n",
       "      <th>rmse</th>\n",
       "      <th>mae</th>\n",
       "      <th>mape</th>\n",
       "      <th>mdape</th>\n",
       "      <th>smape</th>\n",
       "      <th>coverage</th>\n",
       "    </tr>\n",
       "  </thead>\n",
       "  <tbody>\n",
       "    <tr>\n",
       "      <th>count</th>\n",
       "      <td>5</td>\n",
       "      <td>5</td>\n",
       "      <td>5.000000</td>\n",
       "      <td>5.000000</td>\n",
       "      <td>5.000000</td>\n",
       "      <td>5.000000</td>\n",
       "      <td>5.000000</td>\n",
       "      <td>5.000000</td>\n",
       "      <td>5.000000</td>\n",
       "    </tr>\n",
       "    <tr>\n",
       "      <th>mean</th>\n",
       "      <td>1988-01-01 00:00:00</td>\n",
       "      <td>2024-06-01 00:00:00</td>\n",
       "      <td>91.095406</td>\n",
       "      <td>8.786637</td>\n",
       "      <td>7.973725</td>\n",
       "      <td>0.063437</td>\n",
       "      <td>0.069264</td>\n",
       "      <td>0.066355</td>\n",
       "      <td>0.107197</td>\n",
       "    </tr>\n",
       "    <tr>\n",
       "      <th>min</th>\n",
       "      <td>1988-01-01 00:00:00</td>\n",
       "      <td>2024-06-01 00:00:00</td>\n",
       "      <td>36.055672</td>\n",
       "      <td>5.880696</td>\n",
       "      <td>5.022129</td>\n",
       "      <td>0.038949</td>\n",
       "      <td>0.042049</td>\n",
       "      <td>0.040040</td>\n",
       "      <td>0.000000</td>\n",
       "    </tr>\n",
       "    <tr>\n",
       "      <th>25%</th>\n",
       "      <td>1988-01-01 00:00:00</td>\n",
       "      <td>2024-06-01 00:00:00</td>\n",
       "      <td>38.890091</td>\n",
       "      <td>6.150125</td>\n",
       "      <td>5.891718</td>\n",
       "      <td>0.047739</td>\n",
       "      <td>0.050021</td>\n",
       "      <td>0.049032</td>\n",
       "      <td>0.000000</td>\n",
       "    </tr>\n",
       "    <tr>\n",
       "      <th>50%</th>\n",
       "      <td>1988-01-01 00:00:00</td>\n",
       "      <td>2024-06-01 00:00:00</td>\n",
       "      <td>53.517326</td>\n",
       "      <td>7.260251</td>\n",
       "      <td>7.040314</td>\n",
       "      <td>0.060057</td>\n",
       "      <td>0.061988</td>\n",
       "      <td>0.062060</td>\n",
       "      <td>0.000000</td>\n",
       "    </tr>\n",
       "    <tr>\n",
       "      <th>75%</th>\n",
       "      <td>1988-01-01 00:00:00</td>\n",
       "      <td>2024-06-01 00:00:00</td>\n",
       "      <td>88.119255</td>\n",
       "      <td>9.290208</td>\n",
       "      <td>8.853139</td>\n",
       "      <td>0.069654</td>\n",
       "      <td>0.073850</td>\n",
       "      <td>0.072464</td>\n",
       "      <td>0.193182</td>\n",
       "    </tr>\n",
       "    <tr>\n",
       "      <th>max</th>\n",
       "      <td>1988-01-01 00:00:00</td>\n",
       "      <td>2024-06-01 00:00:00</td>\n",
       "      <td>238.894669</td>\n",
       "      <td>15.351906</td>\n",
       "      <td>13.061327</td>\n",
       "      <td>0.100787</td>\n",
       "      <td>0.118413</td>\n",
       "      <td>0.108179</td>\n",
       "      <td>0.342803</td>\n",
       "    </tr>\n",
       "    <tr>\n",
       "      <th>std</th>\n",
       "      <td>None</td>\n",
       "      <td>None</td>\n",
       "      <td>85.176814</td>\n",
       "      <td>3.907745</td>\n",
       "      <td>3.184925</td>\n",
       "      <td>0.023933</td>\n",
       "      <td>0.030002</td>\n",
       "      <td>0.026446</td>\n",
       "      <td>0.156027</td>\n",
       "    </tr>\n",
       "  </tbody>\n",
       "</table>\n",
       "</div>"
      ],
      "text/plain": [
       "                start_time             end_time         mse       rmse        mae      mape     mdape     smape  coverage\n",
       "count                    5                    5    5.000000   5.000000   5.000000  5.000000  5.000000  5.000000  5.000000\n",
       "mean   1988-01-01 00:00:00  2024-06-01 00:00:00   91.095406   8.786637   7.973725  0.063437  0.069264  0.066355  0.107197\n",
       "min    1988-01-01 00:00:00  2024-06-01 00:00:00   36.055672   5.880696   5.022129  0.038949  0.042049  0.040040  0.000000\n",
       "25%    1988-01-01 00:00:00  2024-06-01 00:00:00   38.890091   6.150125   5.891718  0.047739  0.050021  0.049032  0.000000\n",
       "50%    1988-01-01 00:00:00  2024-06-01 00:00:00   53.517326   7.260251   7.040314  0.060057  0.061988  0.062060  0.000000\n",
       "75%    1988-01-01 00:00:00  2024-06-01 00:00:00   88.119255   9.290208   8.853139  0.069654  0.073850  0.072464  0.193182\n",
       "max    1988-01-01 00:00:00  2024-06-01 00:00:00  238.894669  15.351906  13.061327  0.100787  0.118413  0.108179  0.342803\n",
       "std                   None                 None   85.176814   3.907745   3.184925  0.023933  0.030002  0.026446  0.156027"
      ]
     },
     "execution_count": 29,
     "metadata": {},
     "output_type": "execute_result"
    }
   ],
   "source": [
    "# Show stats of forecast_results. By default we do not display it because the output takes up a lot of storage for large datasets.\n",
    "# Change this line to `forecast_results.head()` and re-run the notebook to check the result.\n",
    "forecast_results.describe()"
   ]
  },
  {
   "cell_type": "markdown",
   "metadata": {
    "application/vnd.databricks.v1+cell": {
     "cellMetadata": {
      "byteLimit": 2048000,
      "rowLimit": 10000
     },
     "inputWidgets": {},
     "nuid": "31ad7adb-a96d-4b89-aad7-f04bf4c1e40e",
     "showTitle": false,
     "title": ""
    }
   },
   "source": [
    "## Analyze the predicted results"
   ]
  },
  {
   "cell_type": "code",
   "execution_count": 0,
   "metadata": {
    "application/vnd.databricks.v1+cell": {
     "cellMetadata": {
      "byteLimit": 2048000,
      "rowLimit": 10000
     },
     "inputWidgets": {},
     "nuid": "9b6f6fd0-cf4e-4d75-a2c1-83b9a3f93566",
     "showTitle": false,
     "title": ""
    }
   },
   "outputs": [
    {
     "output_type": "display_data",
     "data": {
      "application/vnd.jupyter.widget-view+json": {
       "model_id": "7b18e341ba0e4a719324f07f1786924d",
       "version_major": 2,
       "version_minor": 0
      },
      "text/plain": [
       "Downloading artifacts:   0%|          | 0/9 [00:00<?, ?it/s]"
      ]
     },
     "metadata": {},
     "output_type": "display_data"
    }
   ],
   "source": [
    "# Load the model\n",
    "run_id = mlflow_run.info.run_id\n",
    "loaded_model = mlflow.pyfunc.load_model(f\"runs:/{run_id}/model\")"
   ]
  },
  {
   "cell_type": "code",
   "execution_count": 0,
   "metadata": {
    "application/vnd.databricks.v1+cell": {
     "cellMetadata": {
      "byteLimit": 2048000,
      "rowLimit": 10000
     },
     "inputWidgets": {},
     "nuid": "ea262f0c-cfcd-4ee4-9498-63844068fece",
     "showTitle": false,
     "title": ""
    }
   },
   "outputs": [
    {
     "output_type": "display_data",
     "data": {
      "text/html": [
       "<style scoped>\n",
       "  .table-result-container {\n",
       "    max-height: 300px;\n",
       "    overflow: auto;\n",
       "  }\n",
       "  table, th, td {\n",
       "    border: 1px solid black;\n",
       "    border-collapse: collapse;\n",
       "  }\n",
       "  th, td {\n",
       "    padding: 5px;\n",
       "  }\n",
       "  th {\n",
       "    text-align: left;\n",
       "  }\n",
       "</style><div class='table-result-container'><table class='table-result'><thead style='background-color: white'><tr><th>ds</th><th>cdid</th><th>ts_id</th></tr></thead><tbody><tr><td>2024-07-01T00:00:00Z</td><td>DKC6</td><td>List(DKC6)</td></tr><tr><td>2024-08-01T00:00:00Z</td><td>DKC6</td><td>List(DKC6)</td></tr><tr><td>2024-09-01T00:00:00Z</td><td>DKC6</td><td>List(DKC6)</td></tr><tr><td>2024-10-01T00:00:00Z</td><td>DKC6</td><td>List(DKC6)</td></tr><tr><td>2024-11-01T00:00:00Z</td><td>DKC6</td><td>List(DKC6)</td></tr></tbody></table></div>"
      ]
     },
     "metadata": {
      "application/vnd.databricks.v1+output": {
       "addedWidgets": {},
       "aggData": [],
       "aggError": "",
       "aggOverflow": false,
       "aggSchema": [],
       "aggSeriesLimitReached": false,
       "aggType": "",
       "arguments": {},
       "columnCustomDisplayInfos": {},
       "data": [
        [
         "2024-07-01T00:00:00Z",
         "DKC6",
         [
          "DKC6"
         ]
        ],
        [
         "2024-08-01T00:00:00Z",
         "DKC6",
         [
          "DKC6"
         ]
        ],
        [
         "2024-09-01T00:00:00Z",
         "DKC6",
         [
          "DKC6"
         ]
        ],
        [
         "2024-10-01T00:00:00Z",
         "DKC6",
         [
          "DKC6"
         ]
        ],
        [
         "2024-11-01T00:00:00Z",
         "DKC6",
         [
          "DKC6"
         ]
        ]
       ],
       "datasetInfos": [],
       "dbfsResultPath": null,
       "isJsonSchema": true,
       "metadata": {},
       "overflow": false,
       "plotOptions": {
        "customPlotOptions": {},
        "displayType": "table",
        "pivotAggregation": null,
        "pivotColumns": null,
        "xColumns": null,
        "yColumns": null
       },
       "removedWidgets": [],
       "schema": [
        {
         "metadata": "{}",
         "name": "ds",
         "type": "\"timestamp\""
        },
        {
         "metadata": "{}",
         "name": "cdid",
         "type": "\"string\""
        },
        {
         "metadata": "{}",
         "name": "ts_id",
         "type": "{\"type\":\"array\",\"elementType\":\"string\",\"containsNull\":true}"
        }
       ],
       "type": "table"
      }
     },
     "output_type": "display_data"
    }
   ],
   "source": [
    "model = loaded_model._model_impl.python_model\n",
    "col_types = [StructField(f\"{n}\", FloatType()) for n in model.get_reserved_cols()]\n",
    "col_types.append(StructField(\"ds\",TimestampType()))\n",
    "col_types.append(StructField(\"ts_id\",StringType()))\n",
    "result_schema = StructType(col_types)\n",
    "\n",
    "future_df = model.make_future_dataframe(include_history=False)\n",
    "future_df[\"ts_id\"] = future_df[id_cols].apply(tuple, axis=1)\n",
    "future_df = future_df.rename(columns={time_col: \"ds\"})\n",
    "display(future_df.head(5))"
   ]
  },
  {
   "cell_type": "code",
   "execution_count": 0,
   "metadata": {
    "application/vnd.databricks.v1+cell": {
     "cellMetadata": {
      "byteLimit": 2048000,
      "rowLimit": 10000
     },
     "inputWidgets": {},
     "nuid": "bb6ad603-f87c-47f4-bbfb-2e39156d5c6f",
     "showTitle": false,
     "title": ""
    }
   },
   "outputs": [
    {
     "output_type": "stream",
     "name": "stderr",
     "output_type": "stream",
     "text": [
      "/databricks/python/lib/python3.11/site-packages/prophet/serialize.py:172: FutureWarning: The behavior of Timestamp.utcfromtimestamp is deprecated, in a future version will return a timezone-aware Timestamp with UTC timezone. To keep the old behavior, use Timestamp.utcfromtimestamp(ts).tz_localize(None). To get the future behavior, use Timestamp.fromtimestamp(ts, 'UTC')\n  setattr(model, attribute, pd.Timestamp.utcfromtimestamp(model_dict[attribute]).tz_localize(None))\n/databricks/python/lib/python3.11/site-packages/prophet/serialize.py:172: FutureWarning: The behavior of Timestamp.utcfromtimestamp is deprecated, in a future version will return a timezone-aware Timestamp with UTC timezone. To keep the old behavior, use Timestamp.utcfromtimestamp(ts).tz_localize(None). To get the future behavior, use Timestamp.fromtimestamp(ts, 'UTC')\n  setattr(model, attribute, pd.Timestamp.utcfromtimestamp(model_dict[attribute]).tz_localize(None))\n/databricks/python/lib/python3.11/site-packages/prophet/serialize.py:172: FutureWarning: The behavior of Timestamp.utcfromtimestamp is deprecated, in a future version will return a timezone-aware Timestamp with UTC timezone. To keep the old behavior, use Timestamp.utcfromtimestamp(ts).tz_localize(None). To get the future behavior, use Timestamp.fromtimestamp(ts, 'UTC')\n  setattr(model, attribute, pd.Timestamp.utcfromtimestamp(model_dict[attribute]).tz_localize(None))\n/databricks/python/lib/python3.11/site-packages/prophet/serialize.py:172: FutureWarning: The behavior of Timestamp.utcfromtimestamp is deprecated, in a future version will return a timezone-aware Timestamp with UTC timezone. To keep the old behavior, use Timestamp.utcfromtimestamp(ts).tz_localize(None). To get the future behavior, use Timestamp.fromtimestamp(ts, 'UTC')\n  setattr(model, attribute, pd.Timestamp.utcfromtimestamp(model_dict[attribute]).tz_localize(None))\n/databricks/python/lib/python3.11/site-packages/prophet/serialize.py:172: FutureWarning: The behavior of Timestamp.utcfromtimestamp is deprecated, in a future version will return a timezone-aware Timestamp with UTC timezone. To keep the old behavior, use Timestamp.utcfromtimestamp(ts).tz_localize(None). To get the future behavior, use Timestamp.fromtimestamp(ts, 'UTC')\n  setattr(model, attribute, pd.Timestamp.utcfromtimestamp(model_dict[attribute]).tz_localize(None))\n/root/.ipykernel/20623/command-2548317818373330-355227412:2: FutureWarning: Not prepending group keys to the result index of transform-like apply. In the future, the group keys will be included in the index, regardless of whether the applied function returns a like-indexed object.\nTo preserve the previous behavior, use\n\n\t>>> .groupby(..., group_keys=False)\n\nTo adopt the future behavior and silence this warning, use \n\n\t>>> .groupby(..., group_keys=True)\n  forecast_pd = future_df.groupby(id_cols).apply(lambda df: model._predict_impl(df, model._horizon)).reset_index(drop=True)\n"
     ]
    }
   ],
   "source": [
    "# Predict future with the default horizon\n",
    "forecast_pd = future_df.groupby(id_cols).apply(lambda df: model._predict_impl(df, model._horizon)).reset_index(drop=True)"
   ]
  },
  {
   "cell_type": "code",
   "execution_count": 0,
   "metadata": {
    "application/vnd.databricks.v1+cell": {
     "cellMetadata": {
      "byteLimit": 2048000,
      "rowLimit": 10000
     },
     "inputWidgets": {},
     "nuid": "44409f1e-ba2d-4c6b-89e3-4d14b731ac2d",
     "showTitle": false,
     "title": ""
    }
   },
   "outputs": [],
   "source": [
    "# Plotly plots is turned off by default because it takes up a lot of storage.\n",
    "# Set this flag to True and re-run the notebook to see the interactive plots with plotly\n",
    "use_plotly = False"
   ]
  },
  {
   "cell_type": "code",
   "execution_count": 0,
   "metadata": {
    "application/vnd.databricks.v1+cell": {
     "cellMetadata": {
      "byteLimit": 2048000,
      "rowLimit": 10000
     },
     "inputWidgets": {},
     "nuid": "fce686aa-f8d0-45ba-b3cf-381379fdfed9",
     "showTitle": false,
     "title": ""
    }
   },
   "outputs": [
    {
     "output_type": "stream",
     "name": "stderr",
     "output_type": "stream",
     "text": [
      "/databricks/python/lib/python3.11/site-packages/prophet/serialize.py:172: FutureWarning: The behavior of Timestamp.utcfromtimestamp is deprecated, in a future version will return a timezone-aware Timestamp with UTC timezone. To keep the old behavior, use Timestamp.utcfromtimestamp(ts).tz_localize(None). To get the future behavior, use Timestamp.fromtimestamp(ts, 'UTC')\n  setattr(model, attribute, pd.Timestamp.utcfromtimestamp(model_dict[attribute]).tz_localize(None))\n"
     ]
    }
   ],
   "source": [
    "# Choose a random id for plot\n",
    "forecast_pd[\"ts_id\"] = forecast_pd[id_cols].apply(tuple, axis=1)\n",
    "id = set(forecast_pd.index.to_list()).pop()\n",
    "ts_id = forecast_pd[\"ts_id\"].loc[id]\n",
    "# Get the prophet model for plot\n",
    "model = loaded_model._model_impl.python_model.model(ts_id)\n",
    "predict_pd = forecast_pd[forecast_pd[\"ts_id\"] == ts_id]"
   ]
  },
  {
   "cell_type": "markdown",
   "metadata": {
    "application/vnd.databricks.v1+cell": {
     "cellMetadata": {
      "byteLimit": 2048000,
      "rowLimit": 10000
     },
     "inputWidgets": {},
     "nuid": "4f059194-0af8-4540-afc7-cf4cdda979b6",
     "showTitle": false,
     "title": ""
    }
   },
   "source": [
    "### Plot the forecast with change points and trend\n",
    "Plot the forecast using the `plot` method with your forecast dataframe. You can use `prophet.plot.add_changepoints_to_plot` to overlay significant changepoints. An interactive figure can be created with plotly."
   ]
  },
  {
   "cell_type": "code",
   "execution_count": 0,
   "metadata": {
    "application/vnd.databricks.v1+cell": {
     "cellMetadata": {
      "byteLimit": 2048000,
      "rowLimit": 10000
     },
     "inputWidgets": {},
     "nuid": "a1b97608-ebf1-41d0-886b-e135d5b3ed02",
     "showTitle": false,
     "title": ""
    }
   },
   "outputs": [
    {
     "output_type": "execute_result",
     "data": {
      "image/png": "[encoded data removed]",
      "text/plain": [
       "<Figure size 1000x600 with 1 Axes>"
      ]
     },
     "execution_count": 35,
     "metadata": {},
     "output_type": "execute_result"
    },
    {
     "output_type": "display_data",
     "data": {
      "image/png": "[encoded data removed]",
      "text/plain": [
       "<Figure size 1000x600 with 1 Axes>"
      ]
     },
     "metadata": {},
     "output_type": "display_data"
    }
   ],
   "source": [
    "from prophet.plot import add_changepoints_to_plot, plot_plotly\n",
    "\n",
    "if use_plotly:\n",
    "    fig = plot_plotly(model, predict_pd, changepoints=True, trend=True, figsize=(1200, 600))\n",
    "else:\n",
    "    fig = model.plot(predict_pd)\n",
    "    a = add_changepoints_to_plot(fig.gca(), model, predict_pd)\n",
    "fig"
   ]
  },
  {
   "cell_type": "markdown",
   "metadata": {
    "application/vnd.databricks.v1+cell": {
     "cellMetadata": {
      "byteLimit": 2048000,
      "rowLimit": 10000
     },
     "inputWidgets": {},
     "nuid": "9af9f21e-810c-441c-82ba-61bf35c419c4",
     "showTitle": false,
     "title": ""
    }
   },
   "source": [
    "### Plot the forecast components\n",
    "Use the `Prophet.plot_components` method to see the components. By default you'll see the trend, yearly seasonality, and weekly seasonality of the time series. You can also include holidays. An interactive figure can be created with plotly."
   ]
  },
  {
   "cell_type": "code",
   "execution_count": 0,
   "metadata": {
    "application/vnd.databricks.v1+cell": {
     "cellMetadata": {
      "byteLimit": 2048000,
      "rowLimit": 10000
     },
     "inputWidgets": {},
     "nuid": "14b92903-ef49-4b10-aa2c-a653e04f8668",
     "showTitle": false,
     "title": ""
    }
   },
   "outputs": [
    {
     "output_type": "display_data",
     "data": {
      "image/png": "[encoded data removed]",
      "text/plain": [
       "<Figure size 900x600 with 2 Axes>"
      ]
     },
     "metadata": {},
     "output_type": "display_data"
    }
   ],
   "source": [
    "from prophet.plot import plot_components_plotly\n",
    "if use_plotly:\n",
    "    fig = plot_components_plotly(model, predict_pd, figsize=(900, 400))\n",
    "    fig.show()\n",
    "else:\n",
    "    fig = model.plot_components(predict_pd)"
   ]
  },
  {
   "cell_type": "markdown",
   "metadata": {
    "application/vnd.databricks.v1+cell": {
     "cellMetadata": {
      "byteLimit": 2048000,
      "rowLimit": 10000
     },
     "inputWidgets": {},
     "nuid": "1c71e9e5-3199-4d52-b56c-d8ca6261e929",
     "showTitle": false,
     "title": ""
    }
   },
   "source": [
    "## Show the predicted results"
   ]
  },
  {
   "cell_type": "code",
   "execution_count": 0,
   "metadata": {
    "application/vnd.databricks.v1+cell": {
     "cellMetadata": {
      "byteLimit": 2048000,
      "rowLimit": 10000
     },
     "inputWidgets": {},
     "nuid": "92560275-f3d5-4277-851c-862096c5ad0e",
     "showTitle": false,
     "title": ""
    }
   },
   "outputs": [
    {
     "output_type": "display_data",
     "data": {
      "text/html": [
       "<style scoped>\n",
       "  .table-result-container {\n",
       "    max-height: 300px;\n",
       "    overflow: auto;\n",
       "  }\n",
       "  table, th, td {\n",
       "    border: 1px solid black;\n",
       "    border-collapse: collapse;\n",
       "  }\n",
       "  th, td {\n",
       "    padding: 5px;\n",
       "  }\n",
       "  th {\n",
       "    text-align: left;\n",
       "  }\n",
       "</style><div class='table-result-container'><table class='table-result'><thead style='background-color: white'><tr><th>cdid</th><th>ds</th><th>yhat</th></tr></thead><tbody><tr><td>DKC6</td><td>2024-07-01T00:00:00Z</td><td>126.39936587429219</td></tr><tr><td>DKC6</td><td>2024-08-01T00:00:00Z</td><td>126.93409025825241</td></tr><tr><td>DKC6</td><td>2024-09-01T00:00:00Z</td><td>127.39631626061073</td></tr><tr><td>DKC6</td><td>2024-10-01T00:00:00Z</td><td>127.73956587887304</td></tr><tr><td>DKC6</td><td>2024-11-01T00:00:00Z</td><td>128.00504301301658</td></tr><tr><td>DKC6</td><td>2024-12-01T00:00:00Z</td><td>128.44973065649813</td></tr><tr><td>DKC6</td><td>2025-01-01T00:00:00Z</td><td>127.86631585160627</td></tr><tr><td>DKC6</td><td>2025-02-01T00:00:00Z</td><td>128.4551628695712</td></tr><tr><td>DKC6</td><td>2025-03-01T00:00:00Z</td><td>128.96051407714933</td></tr><tr><td>DKC6</td><td>2025-04-01T00:00:00Z</td><td>129.58227499977676</td></tr><tr><td>DKC6</td><td>2025-05-01T00:00:00Z</td><td>130.00304121476563</td></tr><tr><td>DKC6</td><td>2025-06-01T00:00:00Z</td><td>130.21057241639198</td></tr></tbody></table></div>"
      ]
     },
     "metadata": {
      "application/vnd.databricks.v1+output": {
       "addedWidgets": {},
       "aggData": [],
       "aggError": "",
       "aggOverflow": false,
       "aggSchema": [],
       "aggSeriesLimitReached": false,
       "aggType": "",
       "arguments": {},
       "columnCustomDisplayInfos": {},
       "data": [
        [
         "DKC6",
         "2024-07-01T00:00:00Z",
         126.39936587429219
        ],
        [
         "DKC6",
         "2024-08-01T00:00:00Z",
         126.93409025825241
        ],
        [
         "DKC6",
         "2024-09-01T00:00:00Z",
         127.39631626061073
        ],
        [
         "DKC6",
         "2024-10-01T00:00:00Z",
         127.73956587887304
        ],
        [
         "DKC6",
         "2024-11-01T00:00:00Z",
         128.00504301301658
        ],
        [
         "DKC6",
         "2024-12-01T00:00:00Z",
         128.44973065649813
        ],
        [
         "DKC6",
         "2025-01-01T00:00:00Z",
         127.86631585160627
        ],
        [
         "DKC6",
         "2025-02-01T00:00:00Z",
         128.4551628695712
        ],
        [
         "DKC6",
         "2025-03-01T00:00:00Z",
         128.96051407714933
        ],
        [
         "DKC6",
         "2025-04-01T00:00:00Z",
         129.58227499977676
        ],
        [
         "DKC6",
         "2025-05-01T00:00:00Z",
         130.00304121476563
        ],
        [
         "DKC6",
         "2025-06-01T00:00:00Z",
         130.21057241639198
        ]
       ],
       "datasetInfos": [],
       "dbfsResultPath": null,
       "isJsonSchema": true,
       "metadata": {},
       "overflow": false,
       "plotOptions": {
        "customPlotOptions": {},
        "displayType": "table",
        "pivotAggregation": null,
        "pivotColumns": null,
        "xColumns": null,
        "yColumns": null
       },
       "removedWidgets": [],
       "schema": [
        {
         "metadata": "{}",
         "name": "cdid",
         "type": "\"string\""
        },
        {
         "metadata": "{}",
         "name": "ds",
         "type": "\"timestamp\""
        },
        {
         "metadata": "{}",
         "name": "yhat",
         "type": "\"double\""
        }
       ],
       "type": "table"
      }
     },
     "output_type": "display_data"
    }
   ],
   "source": [
    "predict_cols = id_cols + [\"ds\", \"yhat\"]\n",
    "forecast_pd = forecast_pd.reset_index()\n",
    "display(forecast_pd[predict_cols].tail(horizon))"
   ]
  },
  {
   "cell_type": "code",
   "execution_count": 0,
   "metadata": {
    "application/vnd.databricks.v1+cell": {
     "cellMetadata": {
      "byteLimit": 2048000,
      "rowLimit": 10000
     },
     "inputWidgets": {},
     "nuid": "242310b6-2bb5-481d-b33b-e205c8628562",
     "showTitle": false,
     "title": ""
    }
   },
   "outputs": [],
   "source": [
    "(\n",
    "  spark.createDataFrame(forecast_pd)\n",
    "  .write\n",
    "  .mode(\"overwrite\")\n",
    "  .saveAsTable(f\"{CATALOG}.{SCHEMA}.gold_predictions\")\n",
    "  )"
   ]
  }
 ],
 "metadata": {
  "application/vnd.databricks.v1+notebook": {
   "dashboards": [],
   "environmentMetadata": {
    "base_environment": "",
    "client": "1"
   },
   "language": "python",
   "notebookMetadata": {
    "pythonIndentUnit": 2
   },
   "notebookName": "03b-train-prophet-model",
   "widgets": {
    "catalog": {
     "currentValue": "stuart",
     "nuid": "98b2e17b-f66e-4337-9e72-7cb3afe932ba",
     "typedWidgetInfo": null,
     "widgetInfo": {
      "widgetType": "text",
      "defaultValue": "stuart",
      "label": "Default UC catalog",
      "name": "catalog",
      "options": {
       "widgetType": "text",
       "autoCreated": null,
       "validationRegex": null
      }
     }
    },
    "schema": {
     "currentValue": "ts",
     "nuid": "2d2863e8-aa1c-43b1-9ee2-ec27157d53ab",
     "typedWidgetInfo": null,
     "widgetInfo": {
      "widgetType": "text",
      "defaultValue": "ts",
      "label": "Default UC schema",
      "name": "schema",
      "options": {
       "widgetType": "text",
       "autoCreated": null,
       "validationRegex": null
      }
     }
    },
    "ts_freq": {
     "currentValue": "months",
     "nuid": "6bcf4b3c-c1ec-4b5d-af1d-af2f3e0837d2",
     "typedWidgetInfo": null,
     "widgetInfo": {
      "widgetType": "text",
      "defaultValue": "months",
      "label": "Data frequency to use for forecast",
      "name": "ts_freq",
      "options": {
       "widgetType": "text",
       "autoCreated": null,
       "validationRegex": null
      }
     }
    }
   }
  },
  "name": "Prophet-614e7151bb3cff16aecd8e0ea713e012"
 },
 "nbformat": 4,
 "nbformat_minor": 0
}
